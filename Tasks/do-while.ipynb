{
 "cells": [
  {
   "cell_type": "code",
   "execution_count": 2,
   "metadata": {},
   "outputs": [
    {
     "name": "stdout",
     "output_type": "stream",
     "text": [
      "This number is odd\n",
      "This number is even\n",
      "This number is even\n",
      "This number is odd\n"
     ]
    }
   ],
   "source": [
    "while True:\n",
    "    number = int(input('Enter your number = '))\n",
    "    if number %2 == 0:\n",
    "        print('This number is even')\n",
    "    else:\n",
    "        print('This number is odd')\n",
    "\n",
    "    check = input('Are you want to continue (y , n)? : ')\n",
    "    if check == 'n':\n",
    "        break\n"
   ]
  },
  {
   "cell_type": "code",
   "execution_count": null,
   "metadata": {},
   "outputs": [],
   "source": [
    "\\"
   ]
  }
 ],
 "metadata": {
  "kernelspec": {
   "display_name": "Python 3",
   "language": "python",
   "name": "python3"
  },
  "language_info": {
   "codemirror_mode": {
    "name": "ipython",
    "version": 3
   },
   "file_extension": ".py",
   "mimetype": "text/x-python",
   "name": "python",
   "nbconvert_exporter": "python",
   "pygments_lexer": "ipython3",
   "version": "3.12.0"
  }
 },
 "nbformat": 4,
 "nbformat_minor": 2
}
