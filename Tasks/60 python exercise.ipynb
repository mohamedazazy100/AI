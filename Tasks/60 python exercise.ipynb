{
 "cells": [
  {
   "cell_type": "markdown",
   "id": "759d04ba",
   "metadata": {},
   "source": [
    "**1-Write a Python program to calculate the length of a string using 2 ways"
   ]
  },
  {
   "cell_type": "code",
   "execution_count": 2,
   "id": "e434c950",
   "metadata": {},
   "outputs": [
    {
     "name": "stdout",
     "output_type": "stream",
     "text": [
      "Enter your string : mohamed\n",
      "7\n"
     ]
    }
   ],
   "source": [
    "name = input('Enter your string : ')\n",
    "print(len(name))"
   ]
  },
  {
   "cell_type": "code",
   "execution_count": 3,
   "id": "7a2dfa32",
   "metadata": {},
   "outputs": [
    {
     "name": "stdout",
     "output_type": "stream",
     "text": [
      "7\n"
     ]
    }
   ],
   "source": [
    "i = 0\n",
    "for j in name:\n",
    "    i += 1\n",
    "print(i)"
   ]
  },
  {
   "cell_type": "markdown",
   "id": "d7cc9da7",
   "metadata": {},
   "source": [
    "**2-Write a Python program to get a string made of the first 2 and last 2 characters of a given string. If the string length is less than 2, return the empty string instead (\"##Sample String : 'w3resource'\n",
    "Expected Result : 'w3ce'\n",
    "##Sample String : 'w3'\n",
    "Expected Result : 'w3w3'\n",
    "##Sample String : ' w'\n",
    "Expected Result : Empty String)"
   ]
  },
  {
   "cell_type": "code",
   "execution_count": 4,
   "id": "dafa9dd8",
   "metadata": {},
   "outputs": [
    {
     "name": "stdout",
     "output_type": "stream",
     "text": [
      "Please enter string : w3resource\n",
      "w3ce\n"
     ]
    }
   ],
   "source": [
    "string = input('Please enter string : ')\n",
    "if len(string) < 2:\n",
    "    print('Empty String')\n",
    "else:\n",
    "    summ = string[0] + string[1] + string[-2] + string[-1]\n",
    "    print(summ)"
   ]
  },
  {
   "cell_type": "markdown",
   "id": "1534f956",
   "metadata": {},
   "source": [
    "**3-Write a Python program to add 'ing' at the end of a given string (length should be at least 3). If the given string already ends with 'ing', add 'ly' instead. If the string length of the given string is less than 3, leave it unchanged. (Sample String : 'abc'\n",
    "Expected Result : 'abcing')"
   ]
  },
  {
   "cell_type": "code",
   "execution_count": 5,
   "id": "7ff8cec4",
   "metadata": {},
   "outputs": [
    {
     "name": "stdout",
     "output_type": "stream",
     "text": [
      "Enter the string : abc\n",
      "abcing\n"
     ]
    }
   ],
   "source": [
    "x = input('Enter the string : ')\n",
    "if len(x) >= 3 :\n",
    "    if x[-3] + x[-2] + x[-1] == 'ing':\n",
    "        x = x + 'ly'\n",
    "    \n",
    "    else : \n",
    "        x = x + 'ing'\n",
    "print(x)"
   ]
  },
  {
   "cell_type": "markdown",
   "id": "1c0a6627",
   "metadata": {},
   "source": [
    "**4-Write a Python function that takes a list of words and return the longest word and the length of the longest one\n",
    "(Longest word: Exercises\n",
    "Length of the longest word: 9)"
   ]
  },
  {
   "cell_type": "code",
   "execution_count": 8,
   "id": "397341d9",
   "metadata": {},
   "outputs": [
    {
     "name": "stdout",
     "output_type": "stream",
     "text": [
      "Enter length of list : 3\n",
      "Enter element 1 : ibrahim\n",
      "Enter element 2 : emad\n",
      "Enter element 3 : exercises\n",
      "list : ['ibrahim', 'emad', 'exercises']\n",
      "Longest word : exercises\n",
      "Length of the longest word : 9\n"
     ]
    }
   ],
   "source": [
    "number = int(input('Enter length of list : '))\n",
    "l = []\n",
    "logest_word = ''\n",
    "for i in range(number):\n",
    "    l.append(input(f'Enter element {i+1} : ')) \n",
    "print(f'list : {l}')    \n",
    "\n",
    "for j in range(number):\n",
    "    if len(l[j]) > len(l[j-1]):\n",
    "        logest_word = l[j]\n",
    "print(f'Longest word : {logest_word}\\nLength of the longest word : {len(logest_word)}')"
   ]
  },
  {
   "cell_type": "markdown",
   "id": "53a03a6a",
   "metadata": {},
   "source": [
    "**5-Write a Python program to change a given string to a newly string where the first and last chars have been exchanged using 2 ways (Sample String:abca  Expected Result:ebce)"
   ]
  },
  {
   "cell_type": "code",
   "execution_count": 9,
   "id": "fd327d2a",
   "metadata": {},
   "outputs": [
    {
     "name": "stdout",
     "output_type": "stream",
     "text": [
      "Enter your word : abca\n",
      "Enter char that you want to change to it : e\n"
     ]
    },
    {
     "data": {
      "text/plain": [
       "'ebce'"
      ]
     },
     "execution_count": 9,
     "metadata": {},
     "output_type": "execute_result"
    }
   ],
   "source": [
    "word = input('Enter your word : ')\n",
    "char = input('Enter char that you want to change to it : ' )\n",
    "new_word = char + word[1:-1] + char\n",
    "new_word"
   ]
  },
  {
   "cell_type": "code",
   "execution_count": null,
   "id": "285788b4",
   "metadata": {},
   "outputs": [],
   "source": []
  },
  {
   "cell_type": "markdown",
   "id": "25f89808",
   "metadata": {},
   "source": [
    "**6-Write a Python program to remove characters that have odd index values in a given string (Sample String:abca Expected Result:ac)"
   ]
  },
  {
   "cell_type": "code",
   "execution_count": 19,
   "id": "05959bd7",
   "metadata": {},
   "outputs": [
    {
     "name": "stdout",
     "output_type": "stream",
     "text": [
      "Enter your word : abca\n",
      "['a', 'b', 'c', 'a']\n"
     ]
    },
    {
     "data": {
      "text/plain": [
       "'ac'"
      ]
     },
     "execution_count": 19,
     "metadata": {},
     "output_type": "execute_result"
    }
   ],
   "source": [
    "word = input('Enter your word : ')\n",
    "list_word = list(word)\n",
    "new_word = ''\n",
    "print(list_word)\n",
    "for i in range(len(list_word)):\n",
    "    if i%2 == 0:\n",
    "        new_word += list_word[i]\n",
    "\n",
    "new_word"
   ]
  },
  {
   "cell_type": "markdown",
   "id": "eb16e898",
   "metadata": {},
   "source": [
    "**7-Write a Python program to count the occurrences of each word in a given sentence (Sample String:amr and ahmed are frindes but amr is the tallest Expected Result:2)"
   ]
  },
  {
   "cell_type": "code",
   "execution_count": 20,
   "id": "01ce6cf5",
   "metadata": {},
   "outputs": [
    {
     "name": "stdout",
     "output_type": "stream",
     "text": [
      "Enter Your setence : amr and ahmed are frindes but amr is the tallest\n",
      "Enter word you need to count it : amr\n",
      "list = ['amr', 'and', 'ahmed', 'are', 'frindes', 'but', 'amr', 'is', 'the', 'tallest']\n",
      "number of amr = 2\n"
     ]
    }
   ],
   "source": [
    "sent = input('Enter Your setence : ')\n",
    "sent += ' '\n",
    "word = input('Enter word you need to count it : ')\n",
    "count = 0\n",
    "string = ''\n",
    "lst = []\n",
    "for i in range(len(sent)):\n",
    "    if sent[i] != ' ':\n",
    "        string += sent[i]\n",
    "    else:\n",
    "        lst.append(string)\n",
    "        string = ''\n",
    "for i in range(len(lst)):\n",
    "    if word == lst[i]:\n",
    "        count += 1 \n",
    "print(f'list = {lst}')        \n",
    "print(f'number of {word} = {count}')"
   ]
  },
  {
   "cell_type": "markdown",
   "id": "4e8125f1",
   "metadata": {},
   "source": [
    "**8-Write a Python script that takes input from the user and displays that input back in upper and lower cases"
   ]
  },
  {
   "cell_type": "code",
   "execution_count": 21,
   "id": "66c8f778",
   "metadata": {},
   "outputs": [
    {
     "name": "stdout",
     "output_type": "stream",
     "text": [
      "Enter your string : MOHamed\n",
      "UPPER CASE : MOHAMED\n",
      "lower case : mohamed\n"
     ]
    }
   ],
   "source": [
    "inp = input('Enter your string : ')\n",
    "print(f'UPPER CASE : {inp.upper()}\\nlower case : {inp.lower()}')"
   ]
  },
  {
   "cell_type": "markdown",
   "id": "fcd68aa1",
   "metadata": {},
   "source": [
    "**9-Write a Python function to reverse a string if its length is a multiple of 4"
   ]
  },
  {
   "cell_type": "code",
   "execution_count": 25,
   "id": "0671a931",
   "metadata": {},
   "outputs": [
    {
     "name": "stdout",
     "output_type": "stream",
     "text": [
      "Enter your string : exercise\n",
      "This string from multiple of 4\n"
     ]
    },
    {
     "data": {
      "text/plain": [
       "'esicrexe'"
      ]
     },
     "execution_count": 25,
     "metadata": {},
     "output_type": "execute_result"
    }
   ],
   "source": [
    "def reverse_multiple_4():\n",
    "    string = input('Enter your string : ')\n",
    "    new_string = ''\n",
    "    if len(string)%4 == 0:\n",
    "        for i in range(len(string)):\n",
    "            new_string = new_string + string[len(string)-1-i]\n",
    "        print('This string from multiple of 4')\n",
    "    else:\n",
    "        print('This string not from multiple of 4')\n",
    "    return new_string\n",
    "reverse_multiple_4()"
   ]
  },
  {
   "cell_type": "markdown",
   "id": "b577c68d",
   "metadata": {},
   "source": [
    "**10- Write a Python program to remove a newline in Python"
   ]
  },
  {
   "cell_type": "code",
   "execution_count": 26,
   "id": "e0c6525a",
   "metadata": {},
   "outputs": [
    {
     "name": "stdout",
     "output_type": "stream",
     "text": [
      "mohamed azazy mohamed \n",
      " i live in suez\n",
      "mohamed azazy mohamed  i live in suez\n"
     ]
    }
   ],
   "source": [
    "string = 'mohamed azazy mohamed \\n i live in suez'\n",
    "print(string)\n",
    "string = string.replace('\\n' , '')\n",
    "print(string)"
   ]
  },
  {
   "cell_type": "markdown",
   "id": "80db5ae0",
   "metadata": {},
   "source": [
    "**11-Write a Python program to check whether a string starts with specified characters"
   ]
  },
  {
   "cell_type": "code",
   "execution_count": 27,
   "id": "0cc4e03e",
   "metadata": {},
   "outputs": [
    {
     "name": "stdout",
     "output_type": "stream",
     "text": [
      "Enter your string : change\n",
      "Enter your char : c\n",
      "True\n"
     ]
    }
   ],
   "source": [
    "string = input('Enter your string : ')\n",
    "char = input('Enter your char : ')\n",
    "if  string[0] == char : \n",
    "    print(True)\n",
    "else:\n",
    "    print(False)"
   ]
  },
  {
   "cell_type": "markdown",
   "id": "593a68db",
   "metadata": {},
   "source": [
    "**12- Write a Python program to add prefix text to all of the lines in a string"
   ]
  },
  {
   "cell_type": "code",
   "execution_count": 37,
   "id": "d2e46ada",
   "metadata": {},
   "outputs": [
    {
     "name": "stdout",
     "output_type": "stream",
     "text": [
      "prefix : mohamed azazy mohamed\n",
      "prefix : i live in suez\n",
      "prefix : faculty of information and technology\n"
     ]
    }
   ],
   "source": [
    "lines=\"\"\"mohamed azazy mohamed\n",
    "i live in suez\n",
    "faculty of information and technology\"\"\"\n",
    "lines = lines.split('\\n')\n",
    "for i in range(len(lines)):\n",
    "        lines[i] = 'prefix : ' + lines[i]\n",
    "        print(lines[i])\n",
    "#     lines[i].join('prefix : '+lines[i])\n",
    "\n"
   ]
  },
  {
   "cell_type": "markdown",
   "id": "86fa1543",
   "metadata": {},
   "source": [
    "**13-Write a Python program to print the following numbers up to 2 decimal places"
   ]
  },
  {
   "cell_type": "code",
   "execution_count": 38,
   "id": "cd4a9d89",
   "metadata": {},
   "outputs": [
    {
     "name": "stdout",
     "output_type": "stream",
     "text": [
      "Enter float number : 5.666\n",
      "5.67\n"
     ]
    }
   ],
   "source": [
    "number = float(input('Enter float number : '))\n",
    "print(f'{number:.2f}')"
   ]
  },
  {
   "cell_type": "markdown",
   "id": "452c0ab0",
   "metadata": {},
   "source": [
    "**14-Write a Python program to print the following numbers up to 2 decimal places with a sign"
   ]
  },
  {
   "cell_type": "code",
   "execution_count": 41,
   "id": "73e82479",
   "metadata": {},
   "outputs": [
    {
     "name": "stdout",
     "output_type": "stream",
     "text": [
      "Enter float number : -5.66666\n",
      "-5.67\n"
     ]
    }
   ],
   "source": [
    "number = float(input('Enter float number : '))\n",
    "print(f'{number:.2f}')"
   ]
  },
  {
   "cell_type": "markdown",
   "id": "32b1811a",
   "metadata": {},
   "source": [
    "**15-Write a Python program to display a number with a comma separator"
   ]
  },
  {
   "cell_type": "code",
   "execution_count": 42,
   "id": "f30fc0b6",
   "metadata": {},
   "outputs": [
    {
     "name": "stdout",
     "output_type": "stream",
     "text": [
      "Enter number : 600000000000000000000000\n",
      "600,000,000,000,000,000,000,000\n"
     ]
    }
   ],
   "source": [
    "num = int(input('Enter number : '))\n",
    "print(f'{num:,}')"
   ]
  },
  {
   "cell_type": "markdown",
   "id": "0477f487",
   "metadata": {},
   "source": [
    "**16-Write a Python program to reverse a string using 2 ways"
   ]
  },
  {
   "cell_type": "code",
   "execution_count": 44,
   "id": "aa8beec8",
   "metadata": {},
   "outputs": [
    {
     "name": "stdout",
     "output_type": "stream",
     "text": [
      "Enter your string : mohamed\n",
      "demahom\n"
     ]
    }
   ],
   "source": [
    "string = input('Enter your string : ')\n",
    "new_string = ''\n",
    "for i in range(len(string)):\n",
    "    new_string = new_string + string[len(string)-1-i]\n",
    "print(new_string)"
   ]
  },
  {
   "cell_type": "code",
   "execution_count": 45,
   "id": "69e4aec9",
   "metadata": {},
   "outputs": [
    {
     "name": "stdout",
     "output_type": "stream",
     "text": [
      "demahom\n"
     ]
    }
   ],
   "source": [
    "print(string[::-1])"
   ]
  },
  {
   "cell_type": "markdown",
   "id": "5afc3166",
   "metadata": {},
   "source": [
    " **17-Write a Python program to count repeated characters in a string (hint:use dictionary)"
   ]
  },
  {
   "cell_type": "code",
   "execution_count": 56,
   "id": "515a469c",
   "metadata": {},
   "outputs": [
    {
     "name": "stdout",
     "output_type": "stream",
     "text": [
      "Enter your string : mohamed mohamed\n",
      "e  :  2 \n",
      "\n",
      "d  :  2 \n",
      "\n",
      "o  :  2 \n",
      "\n",
      "m  :  4 \n",
      "\n",
      "a  :  2 \n",
      "\n",
      "h  :  2 \n",
      "\n"
     ]
    }
   ],
   "source": [
    "string = input('Enter your string : ')\n",
    "dic = {'name' : string}\n",
    "char = ''\n",
    "s = set()\n",
    "count = 0\n",
    "for i in dic['name']:\n",
    "    if dic['name'].count(i) > 1:\n",
    "        char = i        \n",
    "        s.add(char)\n",
    "for i in s:\n",
    "    print(i , ' : ' , dic['name'].count(i) , '\\n')\n"
   ]
  },
  {
   "cell_type": "markdown",
   "id": "ae14e4e5",
   "metadata": {},
   "source": [
    "**18-Write a Python program to find the first non-repeating character in a given string"
   ]
  },
  {
   "cell_type": "code",
   "execution_count": 58,
   "id": "d73778e5",
   "metadata": {},
   "outputs": [
    {
     "name": "stdout",
     "output_type": "stream",
     "text": [
      "Enter your string : mohamed\n",
      "o\n"
     ]
    }
   ],
   "source": [
    "string = input('Enter your string : ')\n",
    "l = list(string)\n",
    "for i in l:\n",
    "    if l.count(i) == 1:\n",
    "        print(i)\n",
    "        break"
   ]
  },
  {
   "cell_type": "markdown",
   "id": "3adf5669",
   "metadata": {},
   "source": [
    "**19-Write a Python program to remove spaces from a given string"
   ]
  },
  {
   "cell_type": "code",
   "execution_count": 84,
   "id": "b4f22602",
   "metadata": {},
   "outputs": [
    {
     "name": "stdout",
     "output_type": "stream",
     "text": [
      "Enter your string : mohamed azazy mohamed\n",
      "mohamedazazymohamed\n"
     ]
    }
   ],
   "source": [
    "string = input('Enter your string : ')\n",
    "l = list(string)\n",
    "new_string = ''\n",
    "for i in l:\n",
    "    if i == ' ':\n",
    "        l.remove(i)\n",
    "for i in l:\n",
    "    new_string += i\n",
    "print(new_string)"
   ]
  },
  {
   "cell_type": "markdown",
   "id": "734de60c",
   "metadata": {},
   "source": [
    "**20-Write a Python program to count the number of non-empty substrings of a given string"
   ]
  },
  {
   "cell_type": "code",
   "execution_count": null,
   "id": "ef3f2274",
   "metadata": {},
   "outputs": [],
   "source": []
  },
  {
   "cell_type": "markdown",
   "id": "509998e2",
   "metadata": {},
   "source": [
    "**21-write a Python program to swap first and last element of any list."
   ]
  },
  {
   "cell_type": "code",
   "execution_count": 97,
   "id": "68692d7f",
   "metadata": {},
   "outputs": [
    {
     "name": "stdout",
     "output_type": "stream",
     "text": [
      "Enter number of list : 5\n",
      "list element 1 : 1\n",
      "list element 2 : 2\n",
      "list element 3 : 3\n",
      "list element 4 : 4\n",
      "list element 5 : 5\n"
     ]
    },
    {
     "data": {
      "text/plain": [
       "['5', '2', '3', '4', '1']"
      ]
     },
     "execution_count": 97,
     "metadata": {},
     "output_type": "execute_result"
    }
   ],
   "source": [
    "num = int(input('Enter number of list : '))\n",
    "l = []\n",
    "new_l = []\n",
    "for i in range(num):\n",
    "    l.append(input(f'list element {i+1} : '))\n",
    "    \n",
    "new_l = l\n",
    "l2 = l.copy()\n",
    "new_l[-1] = l[0]\n",
    "new_l[0] = l2[-1]\n",
    "\n",
    "new_l\n",
    "    "
   ]
  },
  {
   "cell_type": "markdown",
   "id": "959e0837",
   "metadata": {},
   "source": [
    "**22-Given a list in Python and provided the positions of the elements, write a program to swap the two elements in the list. (Input : List = [23, 65, 19, 90], pos1 = 1, pos2 = 3\n",
    "Output : [19, 65, 23, 90])"
   ]
  },
  {
   "cell_type": "code",
   "execution_count": 100,
   "id": "225d8c6d",
   "metadata": {},
   "outputs": [
    {
     "name": "stdout",
     "output_type": "stream",
     "text": [
      "Enter number of list : 4\n",
      "list element 1 : 23\n",
      "list element 2 : 65\n",
      "list element 3 : 19\n",
      "list element 4 : 90\n",
      "Enter number of position 1 : 1\n",
      "Enter number of position 2 : 3\n"
     ]
    },
    {
     "data": {
      "text/plain": [
       "['19', '65', '23', '90']"
      ]
     },
     "execution_count": 100,
     "metadata": {},
     "output_type": "execute_result"
    }
   ],
   "source": [
    "num = int(input('Enter number of list : '))\n",
    "l = []\n",
    "new_l = []\n",
    "for i in range(num):\n",
    "    l.append(input(f'list element {i+1} : '))\n",
    "    \n",
    "pos1 = int(input('Enter number of position 1 : '))\n",
    "pos2 = int(input('Enter number of position 2 : '))\n",
    "new_l = l\n",
    "l2 = l.copy()\n",
    "new_l[pos1-1] = l[pos2-1]\n",
    "new_l[pos2-1] = l2[pos1-1]\n",
    "\n",
    "new_l"
   ]
  },
  {
   "cell_type": "markdown",
   "id": "66fc6682",
   "metadata": {},
   "source": [
    "**23- search for the all ways to know the length of the list"
   ]
  },
  {
   "cell_type": "markdown",
   "id": "5eb8e5ba",
   "metadata": {},
   "source": [
    "**24-write a Python code to find the Maximum number of list of numbers."
   ]
  },
  {
   "cell_type": "code",
   "execution_count": 103,
   "id": "15f342de",
   "metadata": {},
   "outputs": [
    {
     "name": "stdout",
     "output_type": "stream",
     "text": [
      "Enter number of list : 4\n",
      "list element 1 : 19\n",
      "list element 2 : 60\n",
      "list element 3 : 90\n",
      "list element 4 : 24\n"
     ]
    },
    {
     "data": {
      "text/plain": [
       "'90'"
      ]
     },
     "execution_count": 103,
     "metadata": {},
     "output_type": "execute_result"
    }
   ],
   "source": [
    "num = int(input('Enter number of list : '))\n",
    "l = []\n",
    "for i in range(num):\n",
    "    l.append(input(f'list element {i+1} : '))\n",
    "max(l)"
   ]
  },
  {
   "cell_type": "markdown",
   "id": "2931c27e",
   "metadata": {},
   "source": [
    "**25-write a Python code to find the Minimum number of list of numbers."
   ]
  },
  {
   "cell_type": "code",
   "execution_count": 104,
   "id": "21f8cbd6",
   "metadata": {},
   "outputs": [
    {
     "name": "stdout",
     "output_type": "stream",
     "text": [
      "Enter number of list : 4\n",
      "list element 1 : 19\n",
      "list element 2 : 60\n",
      "list element 3 : 90\n",
      "list element 4 : 24\n"
     ]
    },
    {
     "data": {
      "text/plain": [
       "'19'"
      ]
     },
     "execution_count": 104,
     "metadata": {},
     "output_type": "execute_result"
    }
   ],
   "source": [
    "num = int(input('Enter number of list : '))\n",
    "l = []\n",
    "for i in range(num):\n",
    "    l.append(input(f'list element {i+1} : '))\n",
    "min(l)"
   ]
  },
  {
   "cell_type": "markdown",
   "id": "96822d96",
   "metadata": {},
   "source": [
    "**26-search for if an elem is existing in list"
   ]
  },
  {
   "cell_type": "code",
   "execution_count": 110,
   "id": "51ca5c9a",
   "metadata": {},
   "outputs": [
    {
     "name": "stdout",
     "output_type": "stream",
     "text": [
      "Enter number of list : 4\n",
      "list element 1 : 10\n",
      "list element 2 : 17\n",
      "list element 3 : 20\n",
      "list element 4 : 5\n",
      "Enter the element you want to find it : 17\n",
      "This element is exist in position : 2\n"
     ]
    }
   ],
   "source": [
    "num = int(input('Enter number of list : '))\n",
    "l = []\n",
    "for i in range(num):\n",
    "    l.append(input(f'list element {i+1} : '))\n",
    "search = input('Enter the element you want to find it : ')\n",
    "\n",
    "if search in l:\n",
    "    print(f'This element is exist in position : {l.index(search)+1}')\n",
    "else:\n",
    "    print('This elemnt not found')"
   ]
  },
  {
   "cell_type": "markdown",
   "id": "d9557da7",
   "metadata": {},
   "source": [
    "**27- clear python list using different ways"
   ]
  },
  {
   "cell_type": "code",
   "execution_count": 113,
   "id": "b69858a3",
   "metadata": {},
   "outputs": [
    {
     "name": "stdout",
     "output_type": "stream",
     "text": [
      "Enter number of list : 3\n",
      "list element 1 : 1\n",
      "list element 2 : 2\n",
      "list element 3 : 3\n"
     ]
    },
    {
     "data": {
      "text/plain": [
       "[]"
      ]
     },
     "execution_count": 113,
     "metadata": {},
     "output_type": "execute_result"
    }
   ],
   "source": [
    "num = int(input('Enter number of list : '))\n",
    "l = []\n",
    "for i in range(num):\n",
    "    l.append(input(f'list element {i+1} : '))\n",
    "l.clear()\n",
    "l"
   ]
  },
  {
   "cell_type": "markdown",
   "id": "52160e88",
   "metadata": {},
   "source": [
    "**28-remove duplicated elements from a list"
   ]
  },
  {
   "cell_type": "code",
   "execution_count": 125,
   "id": "5e362228",
   "metadata": {},
   "outputs": [
    {
     "name": "stdout",
     "output_type": "stream",
     "text": [
      "Enter number of list : 5\n",
      "list element 1 : 1\n",
      "list element 2 : 2\n",
      "list element 3 : 2\n",
      "list element 4 : 4\n",
      "list element 5 : 1\n",
      "List : ['1', '2', '2', '4', '1']\n",
      "Not duplicate : ['1', '4', '2']\n"
     ]
    }
   ],
   "source": [
    "num = int(input('Enter number of list : '))\n",
    "l = []\n",
    "for i in range(num):\n",
    "    l.append(input(f'list element {i+1} : '))\n",
    "    \n",
    "s = list(set(l))\n",
    "print(f'List : {l}\\nNot duplicate : {s}')"
   ]
  },
  {
   "cell_type": "markdown",
   "id": "282337f7",
   "metadata": {},
   "source": [
    "**29-Given list values and keys list, convert these values to key value pairs in form of list of dictionaries. (Input : test_list = [“Gfg”, 3, “is”, 8], key_list = [“name”, “id”]\n",
    "Output : [{‘name’: ‘Gfg’, ‘id’: 3}, {‘name’: ‘is’, ‘id’: 8}])"
   ]
  },
  {
   "cell_type": "code",
   "execution_count": 147,
   "id": "4d4e2d28",
   "metadata": {},
   "outputs": [
    {
     "name": "stdout",
     "output_type": "stream",
     "text": [
      "Enter number of test_list : 4\n",
      "Enter number of key_list : 2\n",
      "test list element 1 : gfg\n",
      "test list element 2 : 3\n",
      "test list element 3 : is\n",
      "test list element 4 : 8\n",
      "key list element 1 : name\n",
      "key list element 2 : id\n",
      "[{'n': 'g', 'a': 'f', 'm': 'g'}, {'i': '3'}, {'n': 'i', 'a': 's'}, {'i': '8'}]\n"
     ]
    }
   ],
   "source": [
    "test_list_num = int(input('Enter number of test_list : '))\n",
    "key_list_num = int(input('Enter number of key_list : '))\n",
    "test_list = []\n",
    "key_list = []\n",
    "new_l = []\n",
    "for i in range(test_list_num):\n",
    "    test_list.append(input(f'test list element {i+1} : '))\n",
    "for i in range(key_list_num):\n",
    "    key_list.append(input(f'key list element {i+1} : '))\n",
    "for i in range(test_list_num):\n",
    "    k = str(key_list[i-2])\n",
    "    t = str(test_list[i])\n",
    "    d = dict(zip(k , t))\n",
    "    new_l.append(d)\n",
    "print(new_l)"
   ]
  },
  {
   "cell_type": "markdown",
   "id": "c26b6e9f",
   "metadata": {},
   "source": [
    "**30-write a python program to count unique values inside a list using different ways"
   ]
  },
  {
   "cell_type": "code",
   "execution_count": 130,
   "id": "72132667",
   "metadata": {},
   "outputs": [
    {
     "name": "stdout",
     "output_type": "stream",
     "text": [
      "Enter size of list : 10\n",
      "Enter the element of list 0 : 5\n",
      "Enter the element of list 1 : 5\n",
      "Enter the element of list 2 : 5\n",
      "Enter the element of list 3 : 6\n",
      "Enter the element of list 4 : 7\n",
      "Enter the element of list 5 : 7\n",
      "Enter the element of list 6 : 12\n",
      "Enter the element of list 7 : 12\n",
      "Enter the element of list 8 : 10\n",
      "Enter the element of list 9 : 10\n",
      "Summition = 40\n"
     ]
    }
   ],
   "source": [
    "size = int(input('Enter size of list : '))\n",
    "l = []\n",
    "summ = 0\n",
    "for i in range(size):\n",
    "    l.append(int(input(f'Enter the element of list {i} : ')))\n",
    "l = set(l)\n",
    "l = list(l)\n",
    "for i in range(len(l)):\n",
    "    summ += l[i] \n",
    "    \n",
    "print(f'Summition = {summ}')"
   ]
  },
  {
   "cell_type": "code",
   "execution_count": 131,
   "id": "572844ff",
   "metadata": {},
   "outputs": [
    {
     "name": "stdout",
     "output_type": "stream",
     "text": [
      "Summition = 40\n"
     ]
    }
   ],
   "source": [
    "print(f'Summition = {sum(l)}')"
   ]
  },
  {
   "cell_type": "markdown",
   "id": "fed6677c",
   "metadata": {},
   "source": [
    "**31-write a python program Extract all elements with Frequency greater than K (Input : test_list = [4, 6, 4, 3, 3, 4, 3, 4, 3, 8], K = 3 \n",
    "Output : [4, 3] )"
   ]
  },
  {
   "cell_type": "code",
   "execution_count": 140,
   "id": "d81f3f9d",
   "metadata": {},
   "outputs": [
    {
     "name": "stdout",
     "output_type": "stream",
     "text": [
      "Enter size of list : 10\n",
      "Enter the k freq in list : 3\n",
      "Enter the element of list 0 : 4\n",
      "Enter the element of list 1 : 6\n",
      "Enter the element of list 2 : 4\n",
      "Enter the element of list 3 : 3\n",
      "Enter the element of list 4 : 3\n",
      "Enter the element of list 5 : 4\n",
      "Enter the element of list 6 : 3\n",
      "Enter the element of list 7 : 4\n",
      "Enter the element of list 8 : 3\n",
      "Enter the element of list 9 : 8\n",
      "Output : [3, 4]\n"
     ]
    }
   ],
   "source": [
    "size = int(input('Enter size of list : '))\n",
    "k = int(input('Enter the k freq in list : '))\n",
    "l = []\n",
    "fre = []\n",
    "for i in range(size):\n",
    "    l.append(int(input(f'Enter the element of list {i} : ')))\n",
    "\n",
    "for i in l:\n",
    "    if l.count(i) >= k:\n",
    "        fre.append(i)\n",
    "print(f'Output : {list(set(fre))}')"
   ]
  },
  {
   "cell_type": "markdown",
   "id": "caca5224",
   "metadata": {},
   "source": [
    "**32-write a python program to find the Strongest Neighbour (Input: 1 2 2 3 4 5\n",
    "Output: 2 2 3 4 5)"
   ]
  },
  {
   "cell_type": "code",
   "execution_count": 146,
   "id": "39fbd9b2",
   "metadata": {},
   "outputs": [
    {
     "name": "stdout",
     "output_type": "stream",
     "text": [
      "Enter size of list : 6\n",
      "Enter the element of list 0 : 1\n",
      "Enter the element of list 1 : 2\n",
      "Enter the element of list 2 : 2\n",
      "Enter the element of list 3 : 3\n",
      "Enter the element of list 4 : 4\n",
      "Enter the element of list 5 : 5\n",
      "Strongest neighbour = [2, 3, 4, 5]\n"
     ]
    }
   ],
   "source": [
    "size = int(input('Enter size of list : '))\n",
    "strong = []\n",
    "l = []\n",
    "for i in range(size):\n",
    "    l.append(int(input(f'Enter the element of list {i} : ')))\n",
    "for i in range(1 , len(l)-1):\n",
    "    maxx = max(l[i-1] , l[i+1])\n",
    "    strong.append(maxx)    \n",
    "print(f'Strongest neighbour = {strong}')"
   ]
  },
  {
   "cell_type": "markdown",
   "id": "a9fa8baf",
   "metadata": {},
   "source": [
    "**33-write a Python Program to print all Possible Combinations from the three Digits (Input: [1, 2, 3]\n",
    "Output:\n",
    "1 2 3 ##\n",
    "1 3 2 ##\n",
    "2 1 3 ##\n",
    "2 3 1 ##\n",
    "3 1 2 ##\n",
    "3 2 1)"
   ]
  },
  {
   "cell_type": "code",
   "execution_count": null,
   "id": "8c520a76",
   "metadata": {},
   "outputs": [],
   "source": [
    "l = ['1','2','3']\n",
    "out = ''\n",
    "for i in range(len(l)):\n",
    "    for j in range(2):\n",
    "        out += l[i] + l[j+1]"
   ]
  },
  {
   "cell_type": "markdown",
   "id": "5288bb89",
   "metadata": {},
   "source": [
    "**34-write a Python program to find all the Combinations in the list with the given condition (Input: test_list = [1,2,3] \n",
    "Output: \n",
    " [1], [1, 2], [1, 2, 3], [1, 3]\n",
    " [2], [2, 3], [3])"
   ]
  },
  {
   "cell_type": "code",
   "execution_count": null,
   "id": "59b89646",
   "metadata": {},
   "outputs": [],
   "source": [
    "test_list = [1,2,3]\n",
    "l = []\n",
    "for i in ran"
   ]
  },
  {
   "cell_type": "markdown",
   "id": "39973705",
   "metadata": {},
   "source": [
    "**35-write a Python program to get all unique combinations of two Lists (List_1 = [\"a\",\"b\"]\n",
    "List_2 = [1,2]\n",
    "Unique_combination = [[('a',1),('b',2)],[('a',2),('b',1)]] )"
   ]
  },
  {
   "cell_type": "code",
   "execution_count": null,
   "id": "8c4ba22b",
   "metadata": {},
   "outputs": [],
   "source": []
  },
  {
   "cell_type": "markdown",
   "id": "25199af5",
   "metadata": {},
   "source": [
    "**36-Remove all the occurrences of an element from a list in Python (Input : 1 1 2 3 4 5 1 2 1 \n",
    "\n",
    "**Output : 2 3 4 5 2)"
   ]
  },
  {
   "cell_type": "code",
   "execution_count": null,
   "id": "6dc4c2ba",
   "metadata": {},
   "outputs": [],
   "source": []
  },
  {
   "cell_type": "markdown",
   "id": "bf1a3c93",
   "metadata": {},
   "source": [
    "**37-write a python program to Replace index elements with elements in Other List (The original list 1 is : [‘Gfg’, ‘is’, ‘best’] The original list 2 is : [0, 1, 2, 1, 0, 0, 0, 2, 1, 1, 2, 0] The lists after index elements replacements is : [‘Gfg’, ‘is’, ‘best’, ‘is’, ‘Gfg’, ‘Gfg’, ‘Gfg’, ‘best’, ‘is’, ‘is’, ‘best’, ‘Gfg’])"
   ]
  },
  {
   "cell_type": "code",
   "execution_count": null,
   "id": "fdd66a71",
   "metadata": {},
   "outputs": [],
   "source": []
  },
  {
   "cell_type": "markdown",
   "id": "af0f56e8",
   "metadata": {},
   "source": [
    "**38- write python program to Retain records with N occurrences of K(Input : test_list = [(4, 5, 5, 4), (5, 4, 3)], K = 5, N = 2 \n",
    "Output : [(4, 5, 5, 4)]\n",
    "Input : test_list = [(4, 5, 5, 4), (5, 4, 3)], K = 5, N = 3 \n",
    "Output : [] )"
   ]
  },
  {
   "cell_type": "code",
   "execution_count": null,
   "id": "67b06671",
   "metadata": {},
   "outputs": [],
   "source": []
  },
  {
   "cell_type": "markdown",
   "id": "de76f183",
   "metadata": {},
   "source": [
    "**39-write a Python Program to Sort the list according to the column using lambda\n",
    "array = [[1, 3, 3], [2, 1, 2], [3, 2, 1]]\n",
    "Output :\n",
    "Sorted array specific to column 0, [[1, 3, 3], [2, 1, 2], [3, 2, 1]]\n",
    "Sorted array specific to column 1, [[2, 1, 2], [3, 2, 1], [1, 3, 3]]\n",
    "Sorted array specific to column 2, [[3, 2, 1], [2, 1, 2], [1, 3, 3]]"
   ]
  },
  {
   "cell_type": "code",
   "execution_count": null,
   "id": "dc883308",
   "metadata": {},
   "outputs": [],
   "source": []
  },
  {
   "cell_type": "markdown",
   "id": "fa4119b1",
   "metadata": {},
   "source": [
    "**40- write a program to Sort Python Dictionaries by Key or Value\n",
    "Input:\n",
    "{'ravi': 10, 'rajnish': 9, 'sanjeev': 15, 'yash': 2, 'suraj': 32}\n",
    "\n",
    "Output: \n",
    "{'rajnish': 9, 'ravi': 10, 'sanjeev': 15, 'suraj': 32, 'yash': 2}"
   ]
  },
  {
   "cell_type": "code",
   "execution_count": null,
   "id": "a96db4a0",
   "metadata": {},
   "outputs": [],
   "source": []
  },
  {
   "cell_type": "markdown",
   "id": "ec63c23a",
   "metadata": {},
   "source": [
    "**41-write python program to Remove keys with Values Greater than K ( Including mixed values )\n",
    "nput : test_dict = {‘Gfg’ : 3, ‘is’ : 7, ‘best’ : 10, ‘for’ : 6, ‘geeks’ : ‘CS’},\n",
    "K = 7 \n",
    "Output : {‘Gfg’ : 3, ‘for’ : 6, ‘geeks’ : ‘CS’}"
   ]
  },
  {
   "cell_type": "code",
   "execution_count": null,
   "id": "e39c3a40",
   "metadata": {},
   "outputs": [],
   "source": []
  },
  {
   "cell_type": "markdown",
   "id": "f143f0fe",
   "metadata": {},
   "source": [
    "**42-Write a Python program to concatenate the following dictionaries to create a new one\n",
    "\n",
    "Sample Dictionary :\n",
    "dic1={1:10, 2:20}\n",
    "dic2={3:30, 4:40}\n",
    "dic3={5:50,6:60}\n",
    "Expected Result : {1: 10, 2: 20, 3: 30, 4: 40, 5: 50, 6: 60}"
   ]
  },
  {
   "cell_type": "code",
   "execution_count": null,
   "id": "74ffdfea",
   "metadata": {},
   "outputs": [],
   "source": []
  },
  {
   "cell_type": "markdown",
   "id": "fb04c93c",
   "metadata": {},
   "source": [
    "**43-Write a Python program to iterate over dictionaries using for loops"
   ]
  },
  {
   "cell_type": "code",
   "execution_count": null,
   "id": "6aebc470",
   "metadata": {},
   "outputs": [],
   "source": []
  },
  {
   "cell_type": "markdown",
   "id": "5f491a9d",
   "metadata": {},
   "source": [
    "**44- Write a Python script to merge two Python dictionaries"
   ]
  },
  {
   "cell_type": "code",
   "execution_count": null,
   "id": "b8a14028",
   "metadata": {},
   "outputs": [],
   "source": []
  },
  {
   "cell_type": "markdown",
   "id": "216fc72d",
   "metadata": {},
   "source": [
    "**45-Write a Python program to get the maximum and minimum values of a dictionary values"
   ]
  },
  {
   "cell_type": "code",
   "execution_count": null,
   "id": "d6883f5f",
   "metadata": {},
   "outputs": [],
   "source": []
  },
  {
   "cell_type": "markdown",
   "id": "b6a53011",
   "metadata": {},
   "source": [
    "**46- Write a Python program to drop empty items from a given dictionary.\n",
    "Original Dictionary:\n",
    "{'c1': 'Red', 'c2': 'Green', 'c3': None}\n",
    "New Dictionary after dropping empty items:\n",
    "{'c1': 'Red', 'c2': 'Green'}"
   ]
  },
  {
   "cell_type": "code",
   "execution_count": null,
   "id": "b5c6fecf",
   "metadata": {},
   "outputs": [],
   "source": []
  },
  {
   "cell_type": "markdown",
   "id": "46d718c7",
   "metadata": {},
   "source": [
    "**47-Write a Python program to create a tuple of numbers and print one item"
   ]
  },
  {
   "cell_type": "code",
   "execution_count": null,
   "id": "13216ff5",
   "metadata": {},
   "outputs": [],
   "source": []
  },
  {
   "cell_type": "markdown",
   "id": "2be5b56b",
   "metadata": {},
   "source": [
    "**48-Write a Python program to unpack a tuple into several variables"
   ]
  },
  {
   "cell_type": "code",
   "execution_count": null,
   "id": "595f44be",
   "metadata": {},
   "outputs": [],
   "source": []
  },
  {
   "cell_type": "markdown",
   "id": "392388a7",
   "metadata": {},
   "source": [
    "**49-Write a Python program to add an item to a tuple"
   ]
  },
  {
   "cell_type": "code",
   "execution_count": null,
   "id": "54cc092e",
   "metadata": {},
   "outputs": [],
   "source": []
  },
  {
   "cell_type": "markdown",
   "id": "3e8fd124",
   "metadata": {},
   "source": [
    "**50-Write a Python program to convert a tuple to a string"
   ]
  },
  {
   "cell_type": "code",
   "execution_count": null,
   "id": "92a71ddc",
   "metadata": {},
   "outputs": [],
   "source": []
  },
  {
   "cell_type": "markdown",
   "id": "f4f64ef4",
   "metadata": {},
   "source": [
    "**51-Write a Python program to convert a list to a tuple"
   ]
  },
  {
   "cell_type": "code",
   "execution_count": null,
   "id": "210d56d3",
   "metadata": {},
   "outputs": [],
   "source": []
  },
  {
   "cell_type": "markdown",
   "id": "b1e00ef7",
   "metadata": {},
   "source": [
    "**52-Write a Python program to reverse a tuple"
   ]
  },
  {
   "cell_type": "code",
   "execution_count": null,
   "id": "f45bfdc7",
   "metadata": {},
   "outputs": [],
   "source": []
  },
  {
   "cell_type": "markdown",
   "id": "3cd347d1",
   "metadata": {},
   "source": [
    "**53-Write a Python program to replace the last value of tuples in a list.\n",
    "Sample list: [(10, 20, 40), (40, 50, 60), (70, 80, 90)]\n",
    "Expected Output: [(10, 20, 100), (40, 50, 100), (70, 80, 100)]"
   ]
  },
  {
   "cell_type": "code",
   "execution_count": null,
   "id": "3c4a2a4c",
   "metadata": {},
   "outputs": [],
   "source": []
  },
  {
   "cell_type": "markdown",
   "id": "76bb7b39",
   "metadata": {},
   "source": [
    "**54-Write a Python program to convert a given string list to a tuple\n",
    "Original string: python 3.0\n",
    "<class 'str'>\n",
    "Convert the said string to a tuple:\n",
    "('p', 'y', 't', 'h', 'o', 'n', '3', '.', '0')"
   ]
  },
  {
   "cell_type": "code",
   "execution_count": null,
   "id": "51951937",
   "metadata": {},
   "outputs": [],
   "source": []
  },
  {
   "cell_type": "markdown",
   "id": "5a1d5d97",
   "metadata": {},
   "source": [
    "**55-Write a Python program to calculate the average value of the numbers in a given tuple of tuples"
   ]
  },
  {
   "cell_type": "code",
   "execution_count": null,
   "id": "834e7992",
   "metadata": {},
   "outputs": [],
   "source": []
  },
  {
   "cell_type": "markdown",
   "id": "51edab9c",
   "metadata": {},
   "source": [
    "**56-Write a Python program to add member(s) to a set."
   ]
  },
  {
   "cell_type": "code",
   "execution_count": null,
   "id": "2b65df79",
   "metadata": {},
   "outputs": [],
   "source": []
  },
  {
   "cell_type": "markdown",
   "id": "965590cc",
   "metadata": {},
   "source": [
    "**57-Write a Python program to remove an item from a set if it is present in the set."
   ]
  },
  {
   "cell_type": "code",
   "execution_count": null,
   "id": "866bab28",
   "metadata": {},
   "outputs": [],
   "source": []
  },
  {
   "cell_type": "markdown",
   "id": "2b7cfed1",
   "metadata": {},
   "source": [
    "**58-Write a Python program to create an intersection,union,difference and symmetric difference of sets"
   ]
  },
  {
   "cell_type": "code",
   "execution_count": 73,
   "id": "7f94b7fe",
   "metadata": {},
   "outputs": [
    {
     "name": "stdout",
     "output_type": "stream",
     "text": [
      "intersection : {1, 6}\n",
      "union : {1, 5, 6, 7, 8, 9, 10}\n",
      "difference : {8, 5, 7}\n",
      "symmetric difference : {5, 7, 8, 9, 10}\n"
     ]
    }
   ],
   "source": [
    "s1 = {1,5,6,7,5,8}\n",
    "s2 = {9,6,1,10}\n",
    "print(f'intersection : {s1.intersection(s2)}\\nunion : {s1.union(s2)}\\ndifference : {s1.difference(s2)}\\nsymmetric difference : {s1.symmetric_difference(s2)}')"
   ]
  },
  {
   "cell_type": "markdown",
   "id": "b94931e2",
   "metadata": {},
   "source": [
    "**59-Write a Python program to find the maximum and minimum values in a set"
   ]
  },
  {
   "cell_type": "code",
   "execution_count": 58,
   "id": "203f9600",
   "metadata": {},
   "outputs": [
    {
     "name": "stdout",
     "output_type": "stream",
     "text": [
      "Enter size of set6\n",
      "Enter elements of set 1 : 1\n",
      "Enter elements of set 2 : 5\n",
      "Enter elements of set 3 : 5\n",
      "Enter elements of set 4 : 9\n",
      "Enter elements of set 5 : 10\n",
      "Enter elements of set 6 : 0\n",
      "maximum value = 9\n",
      "minimum value = 0\n"
     ]
    }
   ],
   "source": [
    "num = int(input('Enter size of set'))\n",
    "s = set()\n",
    "for i in range(num):\n",
    "    s.add(input(f'Enter elements of set {i+1} : '))\n",
    "print(f'maximum value = {max(s)}\\nminimum value = {min(s)}')"
   ]
  },
  {
   "cell_type": "markdown",
   "id": "255fd554",
   "metadata": {},
   "source": [
    "**60- Write a Python program that finds all pairs of elements in a list whose sum is equal to a given value."
   ]
  },
  {
   "cell_type": "code",
   "execution_count": null,
   "id": "c2d94e1f",
   "metadata": {},
   "outputs": [],
   "source": []
  },
  {
   "cell_type": "code",
   "execution_count": null,
   "id": "3d19bd4a",
   "metadata": {},
   "outputs": [],
   "source": []
  }
 ],
 "metadata": {
  "kernelspec": {
   "display_name": "Python 3 (ipykernel)",
   "language": "python",
   "name": "python3"
  },
  "language_info": {
   "codemirror_mode": {
    "name": "ipython",
    "version": 3
   },
   "file_extension": ".py",
   "mimetype": "text/x-python",
   "name": "python",
   "nbconvert_exporter": "python",
   "pygments_lexer": "ipython3",
   "version": "3.9.12"
  }
 },
 "nbformat": 4,
 "nbformat_minor": 5
}
